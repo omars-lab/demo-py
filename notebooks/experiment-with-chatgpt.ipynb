{
 "cells": [
  {
   "cell_type": "code",
   "execution_count": 1,
   "id": "3855abcd-a78a-4699-bd7f-6d2419817aa8",
   "metadata": {},
   "outputs": [],
   "source": [
    "import os \n",
    "secrets = ! lpass ls automation | egrep -o '\\[id: (\\d+)\\]' | egrep -o '\\d+' | xargs lpass show -j | jq -r 'map(select(.name|contains(\"api\")))|.[]|. as $secret|([$secret.name|ascii_upcase|gsub(\"-\";\"_\"), $secret.note]|\"\\(.[0])=\\(.[1])\")'\n",
    "for secret in secrets:\n",
    "    var, sec = secret.split(\"=\", 1)\n",
    "    os.environ[var] = sec"
   ]
  },
  {
   "cell_type": "code",
   "execution_count": 2,
   "id": "bd6ae54c-dcc8-4c16-8ee3-500e4749d6db",
   "metadata": {},
   "outputs": [],
   "source": [
    "# https://python.langchain.com/docs/integrations/llms/openai\n",
    "from langchain.chains import LLMChain\n",
    "from langchain.prompts import PromptTemplate\n",
    "from langchain_openai import OpenAI"
   ]
  },
  {
   "cell_type": "code",
   "execution_count": 3,
   "id": "8c0aca39-6322-4967-8124-42c69f73d75c",
   "metadata": {},
   "outputs": [
    {
     "data": {
      "text/plain": [
       "PromptTemplate(input_variables=['question'], template=\"Question: {question}\\nAnswer: Let's think step by step.\")"
      ]
     },
     "execution_count": 3,
     "metadata": {},
     "output_type": "execute_result"
    }
   ],
   "source": [
    "template = \"\"\"Question: {question}\n",
    "Answer: Let's think step by step.\"\"\"\n",
    "prompt = PromptTemplate.from_template(template)\n",
    "prompt"
   ]
  },
  {
   "cell_type": "code",
   "execution_count": 7,
   "id": "f6e7f08e-6392-47b3-9af7-48421d0f89f1",
   "metadata": {},
   "outputs": [
    {
     "data": {
      "text/plain": [
       "OpenAI(client=<openai.resources.completions.Completions object at 0x7f8708a2ba30>, async_client=<openai.resources.completions.AsyncCompletions object at 0x7f87089ca2b0>, openai_api_key=SecretStr('**********'), openai_organization='org-AhD5Wpqf5gBfTeJiuvAmVFGk', openai_proxy='')"
      ]
     },
     "execution_count": 7,
     "metadata": {},
     "output_type": "execute_result"
    }
   ],
   "source": [
    "llm = OpenAI(openai_api_key=os.environ[\"CHATGPT_APIKEY\"], organization=\"org-AhD5Wpqf5gBfTeJiuvAmVFGk\")\n",
    "llm"
   ]
  },
  {
   "cell_type": "code",
   "execution_count": 8,
   "id": "130a6aaa-05f1-45fc-9245-da7203ccef35",
   "metadata": {},
   "outputs": [],
   "source": [
    "llm_chain = LLMChain(prompt=prompt, llm=llm)"
   ]
  },
  {
   "cell_type": "code",
   "execution_count": 9,
   "id": "12008895-c438-45e1-8d43-9003dac4fe61",
   "metadata": {},
   "outputs": [
    {
     "data": {
      "text/plain": [
       "{'question': 'What NFL team won the Super Bowl in the year Justin Beiber was born?',\n",
       " 'text': ' Justin Beiber was born on March 1, 1994. In order to determine the NFL team that won the Super Bowl in that year, we need to look at the Super Bowl games that took place in 1994.\\n\\nThe Super Bowl in 1994 was Super Bowl XXVIII, which took place on January 30, 1994. The Dallas Cowboys and the Buffalo Bills were the two teams that played in that Super Bowl.\\n\\nThe Dallas Cowboys ended up winning the game with a score of 30-13, making them the Super Bowl champions for the 1993 season.\\n\\nTherefore, the Dallas Cowboys were the NFL team that won the Super Bowl in the year Justin Beiber was born. '}"
      ]
     },
     "execution_count": 9,
     "metadata": {},
     "output_type": "execute_result"
    }
   ],
   "source": [
    "question = \"What NFL team won the Super Bowl in the year Justin Beiber was born?\"\n",
    "llm_chain.invoke(question)"
   ]
  },
  {
   "cell_type": "markdown",
   "id": "efc8d2fb-c320-4fa7-a564-5bb7a791f346",
   "metadata": {},
   "source": [
    "* I had to add $5 credit - was getting a quota issue ...\n",
    "* Monthly chatgpt subscription doesnt translate to unlimited api usage ..."
   ]
  },
  {
   "cell_type": "code",
   "execution_count": null,
   "id": "5feaf20f-a610-4bde-8d90-752b6d43f43a",
   "metadata": {},
   "outputs": [],
   "source": []
  }
 ],
 "metadata": {
  "kernelspec": {
   "display_name": "Python 3 (ipykernel)",
   "language": "python",
   "name": "python3"
  },
  "language_info": {
   "codemirror_mode": {
    "name": "ipython",
    "version": 3
   },
   "file_extension": ".py",
   "mimetype": "text/x-python",
   "name": "python",
   "nbconvert_exporter": "python",
   "pygments_lexer": "ipython3",
   "version": "3.9.18"
  }
 },
 "nbformat": 4,
 "nbformat_minor": 5
}
