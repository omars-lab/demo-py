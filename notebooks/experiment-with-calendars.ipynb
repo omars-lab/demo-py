{
 "cells": [
  {
   "cell_type": "code",
   "execution_count": 2,
   "metadata": {},
   "outputs": [
    {
     "name": "stdout",
     "output_type": "stream",
     "text": [
      "Requirement already satisfied: demo-py in /Users/omareid/Workspace/git/demo-py (0.0.1)\n",
      "Requirement already satisfied: typer in /usr/local/bin/miniconda3/envs/demopy/lib/python3.7/site-packages (from demo-py) (0.9.0)\n",
      "Requirement already satisfied: pandas in /usr/local/bin/miniconda3/envs/demopy/lib/python3.7/site-packages (from demo-py) (1.3.5)\n",
      "Requirement already satisfied: numpy>=1.17.3 in /usr/local/bin/miniconda3/envs/demopy/lib/python3.7/site-packages (from pandas->demo-py) (1.21.6)\n",
      "Requirement already satisfied: pytz>=2017.3 in /usr/local/bin/miniconda3/envs/demopy/lib/python3.7/site-packages (from pandas->demo-py) (2023.4)\n",
      "Requirement already satisfied: python-dateutil>=2.7.3 in /usr/local/bin/miniconda3/envs/demopy/lib/python3.7/site-packages (from pandas->demo-py) (2.8.2)\n",
      "Requirement already satisfied: click<9.0.0,>=7.1.1 in /usr/local/bin/miniconda3/envs/demopy/lib/python3.7/site-packages (from typer->demo-py) (8.1.7)\n",
      "Requirement already satisfied: typing-extensions>=3.7.4.3 in /usr/local/bin/miniconda3/envs/demopy/lib/python3.7/site-packages (from typer->demo-py) (4.7.1)\n",
      "Requirement already satisfied: importlib-metadata in /usr/local/bin/miniconda3/envs/demopy/lib/python3.7/site-packages (from click<9.0.0,>=7.1.1->typer->demo-py) (4.2.0)\n",
      "Requirement already satisfied: six>=1.5 in /usr/local/bin/miniconda3/envs/demopy/lib/python3.7/site-packages (from python-dateutil>=2.7.3->pandas->demo-py) (1.16.0)\n",
      "Requirement already satisfied: zipp>=0.5 in /usr/local/bin/miniconda3/envs/demopy/lib/python3.7/site-packages (from importlib-metadata->click<9.0.0,>=7.1.1->typer->demo-py) (3.15.0)\n"
     ]
    }
   ],
   "source": [
    "!pip install demo-py"
   ]
  },
  {
   "cell_type": "code",
   "execution_count": 5,
   "metadata": {},
   "outputs": [
    {
     "ename": "ModuleNotFoundError",
     "evalue": "No module named 'calmap'",
     "output_type": "error",
     "traceback": [
      "\u001b[0;31m---------------------------------------------------------------------------\u001b[0m",
      "\u001b[0;31mModuleNotFoundError\u001b[0m                       Traceback (most recent call last)",
      "\u001b[0;32m/var/folders/p8/m32wy1nn5ll6n57cl4ssvbzw0000gn/T/ipykernel_12191/3508623874.py\u001b[0m in \u001b[0;36m<module>\u001b[0;34m\u001b[0m\n\u001b[1;32m      2\u001b[0m \u001b[0;32mimport\u001b[0m \u001b[0mnumpy\u001b[0m \u001b[0;32mas\u001b[0m \u001b[0mnp\u001b[0m\u001b[0;34m\u001b[0m\u001b[0;34m\u001b[0m\u001b[0m\n\u001b[1;32m      3\u001b[0m \u001b[0;32mimport\u001b[0m \u001b[0mpandas\u001b[0m \u001b[0;32mas\u001b[0m \u001b[0mpd\u001b[0m\u001b[0;34m\u001b[0m\u001b[0;34m\u001b[0m\u001b[0m\n\u001b[0;32m----> 4\u001b[0;31m \u001b[0;32mimport\u001b[0m \u001b[0mcalmap\u001b[0m\u001b[0;34m\u001b[0m\u001b[0;34m\u001b[0m\u001b[0m\n\u001b[0m\u001b[1;32m      5\u001b[0m \u001b[0;32mfrom\u001b[0m \u001b[0mmpldatacursor\u001b[0m \u001b[0;32mimport\u001b[0m \u001b[0mdatacursor\u001b[0m\u001b[0;34m\u001b[0m\u001b[0;34m\u001b[0m\u001b[0m\n",
      "\u001b[0;31mModuleNotFoundError\u001b[0m: No module named 'calmap'"
     ]
    }
   ],
   "source": [
    "from demopy.notebooks.common_imports import *\n",
    "import numpy as np\n",
    "import pandas as pd"
   ]
  },
  {
   "cell_type": "code",
   "execution_count": null,
   "metadata": {},
   "outputs": [],
   "source": [
    "# !pip install mpldatacursor # (https://github.com/joferkington/mpldatacursor)\n",
    "# !pip install calmap # (https://github.com/martijnvermaat/calmap/blob/master/calmap/__init__.py)\n",
    "\n",
    "import calmap\n",
    "from mpldatacursor import datacursor"
   ]
  },
  {
   "cell_type": "code",
   "execution_count": null,
   "metadata": {},
   "outputs": [],
   "source": [
    "display(HTML(\"<style>.container { width:90% !important; }</style>\"))\n",
    "pd.set_option(\"display.max_rows\", 999)\n",
    "pd.get_option(\"display.max_rows\")"
   ]
  },
  {
   "cell_type": "code",
   "execution_count": null,
   "metadata": {},
   "outputs": [],
   "source": [
    "# Create random daily logins \n",
    "np.random.seed(sum(map(ord, 'calmap')))\n",
    "\n",
    "# Logins in the middle of the year ... \n",
    "daily_logins = [0]*175 + [np.random.choice([0,0,0,1,2,3,], 1)[0] for x in [0]*30] + [0]*175\n",
    "days_this_year = pd.date_range('1/1/2017', periods=len(daily_logins), freq='D')"
   ]
  },
  {
   "cell_type": "code",
   "execution_count": null,
   "metadata": {
    "scrolled": false
   },
   "outputs": [],
   "source": [
    "# %matplotlib notebook\n",
    "events = pd.Series(map(lambda x: x * 100, daily_logins), index=days_this_year)\n",
    "x = calmap.yearplot(events, year=2017, daylabels='MTWTFSS')\n",
    "type(x)"
   ]
  },
  {
   "cell_type": "markdown",
   "metadata": {},
   "source": [
    "# Custom Calendar Plot"
   ]
  },
  {
   "cell_type": "code",
   "execution_count": null,
   "metadata": {
    "scrolled": true
   },
   "outputs": [],
   "source": [
    "import datetime as dt\n",
    "import matplotlib.pyplot as plt\n",
    "import numpy as np\n",
    "\n",
    "\n",
    "def generate_data():\n",
    "    num = 100\n",
    "    data = np.random.randint(0, 20, num)\n",
    "    start = dt.datetime(2015, 3, 13)\n",
    "    dates = [start + dt.timedelta(days=i) for i in range(num)]\n",
    "    return dates, data\n",
    "\n",
    "\n",
    "def extract_tuple_of_weekOfYear_and_dayOfWeek(date):\n",
    "    return date.isocalendar()[1:]\n",
    "\n",
    "\n",
    "def calendar_array(dates, data):\n",
    "    i, j = zip(*[extract_tuple_of_weekOfYear_and_dayOfWeek(d) for d in dates])\n",
    "    i = np.array(i) - min(i)\n",
    "    # i becomes the list of the week of the year for all the data points relative to the smallest week of the year\n",
    "    j = np.array(j) - 1\n",
    "    # j becomes the list of the day of the week for all the data points minus 1\n",
    "    ni = max(i) + 1\n",
    "    # we are creating as many rows as there are weeks in the time period we specified plus one, and 7 columns, one per day ...\n",
    "    calendar = np.nan * np.zeros((ni, 7))\n",
    "    calendar[i, j] = data\n",
    "    return i, j, calendar\n",
    "\n",
    "\n",
    "def calendar_heatmap(ax, dates, data):\n",
    "    i, j, calendar = calendar_array(dates, data)\n",
    "    im = ax.imshow(calendar, interpolation='none', cmap='summer')\n",
    "    label_days(ax, dates, i, j, calendar)\n",
    "    label_months(ax, dates, i, j, calendar)\n",
    "    ax.figure.colorbar(im, spacing='proportional')\n",
    "\n",
    "    \n",
    "def label_days(ax, dates, i, j, calendar):\n",
    "    ni, nj = calendar.shape\n",
    "    day_of_month = np.nan * np.zeros((ni, 7))\n",
    "    day_of_month[i, j] = [d.day for d in dates]\n",
    "\n",
    "    for (i, j), day in np.ndenumerate(day_of_month):\n",
    "        if np.isfinite(day):\n",
    "            ax.text(j, i, \"{}: {}\".format(ordinal(int(day)),int(calendar[i,j])), ha='center', va='center')\n",
    "\n",
    "    ax.set(xticks=np.arange(7), \n",
    "           xticklabels=['Mon', 'Tue', 'Wed', 'Thur', 'Fri', 'Sat', 'Sun'])\n",
    "    ax.xaxis.tick_top()\n",
    "\n",
    "def label_months(ax, dates, i, j, calendar):\n",
    "    month_labels = np.array(['Jan', 'Feb', 'Mar', 'Apr', 'May', 'Jun', 'Jul',\n",
    "                             'Aug', 'Sep', 'Oct', 'Nov', 'Dec'])\n",
    "    months = np.array([d.month for d in dates])\n",
    "    uniq_months = sorted(set(months))\n",
    "    yticks = [i[months == m].mean() for m in uniq_months]\n",
    "    labels = [month_labels[m - 1] for m in uniq_months]\n",
    "    ax.set(yticks=yticks)\n",
    "    ax.set_yticklabels(labels, rotation=90)\n",
    "\n",
    "# much code can be improved by using a datastructe.\n",
    "def ordinal(num):\n",
    "    SUFFIXES = {1: 'st', 2: 'nd', 3: 'rd'}\n",
    "    # I'm checking for 10-20 because those are the digits that\n",
    "    # don't follow the normal counting scheme. \n",
    "    if 10 <= num % 100 <= 20:\n",
    "        suffix = 'th'\n",
    "    else:\n",
    "        # the second parameter is a default.\n",
    "        suffix = SUFFIXES.get(num % 10, 'th')\n",
    "    return str(num) + suffix\n",
    "\n",
    "daily_logins = [0]*30 + [np.random.choice([0,0,0,0,0,0,1,2,3,], 1)[0] for x in [0]*60] + [0]*10\n",
    "days_this_year = pd.date_range('1/1/2017', periods=len(daily_logins), freq='D')\n",
    "dates, data = days_this_year, daily_logins\n",
    "\n",
    "# datacursor(display='single',formatter='Logins: {z}'.format)\n",
    "\n",
    "fig, ax = plt.subplots(figsize=(8, 40), gridspec_kw={\"left\":.05,\"bottom\":.05,\"wspace\":0})\n",
    "calendar_heatmap(ax, dates, data)\n",
    "ax.set_aspect(aspect=\"auto\", anchor=\"NW\")\n",
    "plt.show()\n",
    "\n",
    "# calendar_array(dates, data)\n",
    "# https://matplotlib.org/gallery/images_contours_and_fields/image_annotated_heatmap.html#sphx-glr-gallery-images-contours-and-fields-image-annotated-heatmap-py"
   ]
  },
  {
   "cell_type": "markdown",
   "metadata": {},
   "source": [
    "# Gnatt Charts"
   ]
  },
  {
   "cell_type": "code",
   "execution_count": null,
   "metadata": {},
   "outputs": [],
   "source": [
    "import pycandela\n",
    "\n",
    "data = [\n",
    "    dict(name='Do this', level=1, start=0, end=5),\n",
    "    dict(name='This part 1', level=2, start=0, end=3),\n",
    "    dict(name='This part 2', level=2, start=3, end=5),\n",
    "    dict(name='Then that', level=1, start=5, end=15),\n",
    "    dict(name='That part 1', level=2, start=5, end=10),\n",
    "    dict(name='That part 2', level=2, start=10, end=15)\n",
    "];\n",
    "pycandela.components.GanttChart(\n",
    "    data=data, label='name',\n",
    "    start='start', end='end', level='level',\n",
    "    width=700, height=200\n",
    ")"
   ]
  },
  {
   "cell_type": "code",
   "execution_count": null,
   "metadata": {},
   "outputs": [],
   "source": []
  },
  {
   "cell_type": "code",
   "execution_count": 25,
   "metadata": {},
   "outputs": [
    {
     "name": "stdout",
     "output_type": "stream",
     "text": [
      "[(52, 7), (1, 1), (1, 2), (1, 3), (1, 4), (1, 5), (1, 6), (1, 7), (2, 1), (2, 2), (2, 3), (2, 4), (2, 5), (2, 6), (2, 7), (3, 1), (3, 2), (3, 3), (3, 4), (3, 5), (3, 6), (3, 7), (4, 1), (4, 2), (4, 3), (4, 4), (4, 5), (4, 6), (4, 7), (5, 1), (5, 2), (5, 3), (5, 4), (5, 5), (5, 6), (5, 7), (6, 1), (6, 2), (6, 3), (6, 4), (6, 5), (6, 6), (6, 7), (7, 1), (7, 2), (7, 3), (7, 4), (7, 5), (7, 6), (7, 7), (8, 1), (8, 2), (8, 3), (8, 4), (8, 5), (8, 6), (8, 7), (9, 1), (9, 2), (9, 3), (9, 4), (9, 5), (9, 6), (9, 7), (10, 1), (10, 2), (10, 3), (10, 4), (10, 5), (10, 6), (10, 7), (11, 1), (11, 2), (11, 3), (11, 4), (11, 5), (11, 6), (11, 7), (12, 1), (12, 2), (12, 3), (12, 4), (12, 5), (12, 6), (12, 7), (13, 1), (13, 2), (13, 3), (13, 4), (13, 5), (13, 6), (13, 7), (14, 1), (14, 2), (14, 3), (14, 4), (14, 5), (14, 6), (14, 7), (15, 1)]\n"
     ]
    }
   ],
   "source": [
    "# Date Stuff\n",
    "pd.date_range('1/1/2017', periods=1, freq='D')[0].isocalendar()\n",
    "print([extract_tuple_of_weekOfYear_and_dayOfWeek(d) for d in dates])\n",
    "# list(zip(*[extract_tuple_of_weekOfYear_and_dayOfWeek(d) for d in dates]))"
   ]
  }
 ],
 "metadata": {
  "kernelspec": {
   "display_name": "Python 3 (ipykernel)",
   "language": "python",
   "name": "python3"
  },
  "language_info": {
   "codemirror_mode": {
    "name": "ipython",
    "version": 3
   },
   "file_extension": ".py",
   "mimetype": "text/x-python",
   "name": "python",
   "nbconvert_exporter": "python",
   "pygments_lexer": "ipython3",
   "version": "3.7.16"
  }
 },
 "nbformat": 4,
 "nbformat_minor": 2
}
